{
 "cells": [
  {
   "cell_type": "markdown",
   "id": "8cdf6f01",
   "metadata": {},
   "source": [
    "# db-import"
   ]
  },
  {
   "cell_type": "markdown",
   "id": "4a194dfc",
   "metadata": {},
   "source": [
    "This is a dirty script to convert a telegram export into a json you can import into the database using `import_sumissions.py`.\n",
    "\n",
    "It is ugly, but it works. :)\n",
    "\n",
    "You need `spotipy` available to your jupyter kernel."
   ]
  },
  {
   "cell_type": "code",
   "execution_count": null,
   "id": "6ba23610",
   "metadata": {},
   "outputs": [],
   "source": [
    "# input your vars here here\n",
    "spotipy_client_id = None\n",
    "spotipy_client_secret = None\n",
    "telegram_export_file = None\n",
    "bot_name = None"
   ]
  },
  {
   "cell_type": "code",
   "execution_count": null,
   "id": "5c0dc3a5",
   "metadata": {},
   "outputs": [],
   "source": [
    "from datetime import datetime\n",
    "from spotipy.client import Spotify\n",
    "from spotipy.oauth2 import SpotifyClientCredentials\n",
    "\n",
    "spotipy_provider = Spotify(\n",
    "    client_credentials_manager=SpotifyClientCredentials(\n",
    "        client_id=spotipy_client_id,\n",
    "        client_secret=spotipy_client_secret,\n",
    "    )\n",
    ")"
   ]
  },
  {
   "cell_type": "code",
   "execution_count": null,
   "id": "cb5b5c62",
   "metadata": {},
   "outputs": [],
   "source": [
    "import json\n",
    "with open(telegram_export_filename) as f:\n",
    "    data = json.load(f)"
   ]
  },
  {
   "cell_type": "code",
   "execution_count": null,
   "id": "8e7044d9",
   "metadata": {},
   "outputs": [],
   "source": [
    "botmsgs = [m for m in data[\"messages\"] if m.get(\"from\") == bot_name]\n",
    "musicmsgs = [m for m in botmsgs if \"sent by\" in str(m.get(\"text\", \"\")).lower()]"
   ]
  },
  {
   "cell_type": "code",
   "execution_count": null,
   "id": "4641be5d",
   "metadata": {},
   "outputs": [],
   "source": [
    "len(musicmsgs)"
   ]
  },
  {
   "cell_type": "code",
   "execution_count": null,
   "id": "bfc2173d",
   "metadata": {},
   "outputs": [],
   "source": [
    "def extract_hashtags(elem):\n",
    "    hashtags = []\n",
    "    for i in elem.get(\"text\"):\n",
    "        if type(i) is dict:\n",
    "            if \"type\" in i.keys():\n",
    "                if i[\"type\"] == \"hashtag\" and not \"released_\" in i[\"text\"]:\n",
    "                    hashtags.append(i[\"text\"])\n",
    "    return hashtags"
   ]
  },
  {
   "cell_type": "code",
   "execution_count": null,
   "id": "251e1e6f",
   "metadata": {},
   "outputs": [],
   "source": [
    "def get_data_from_spotify(like, url):\n",
    "    spotid = url.split(\"/\")[-1]\n",
    "    \n",
    "    if like == \"/track\":\n",
    "        data = spotipy_provider.track(spotid)\n",
    "        return (data[\"name\"], data[\"external_urls\"][\"spotify\"])\n",
    "    \n",
    "    if like == \"/artist\":\n",
    "        data = spotipy_provider.track(spotid)\n",
    "        return (data[\"album\"][\"artists\"][0][\"name\"], data[\"album\"][\"artists\"][0][\"external_urls\"][\"spotify\"])\n",
    "    \n",
    "    if like == \"/album\":\n",
    "        data = spotipy_provider.track(spotid)\n",
    "        return (data[\"album\"][\"name\"], data[\"album\"][\"external_urls\"][\"spotify\"])\n",
    "\n",
    "    if like == \"year\":\n",
    "        data = spotipy_provider.album(spotid)\n",
    "        release_date = data[\"release_date\"]\n",
    "        return datetime.fromisoformat(f\"{release_date.split('-')[0]}-01-01\")\n",
    "    \n",
    "\n",
    "    return (\"NOTFOUND\", url)"
   ]
  },
  {
   "cell_type": "code",
   "execution_count": null,
   "id": "7b7a9e40",
   "metadata": {},
   "outputs": [],
   "source": [
    "def get_link_tuple(elem, like):\n",
    "    for i in elem.get(\"text\"):\n",
    "        if type(i) is dict and i.get(\"text\") == \"Spotify\":\n",
    "            spotify_url = i[\"href\"]\n",
    "        if type(i) is dict and \"type\" in i.keys() and i[\"type\"] == \"text_link\" and like in i[\"href\"] and i[\"text\"] != \"Spotify\":\n",
    "            return (i[\"text\"], i[\"href\"])\n",
    "    return get_data_from_spotify(like, spotify_url)"
   ]
  },
  {
   "cell_type": "code",
   "execution_count": null,
   "id": "ecb14f67",
   "metadata": {},
   "outputs": [],
   "source": [
    "def get_year(elem, url):\n",
    "    for i in elem.get(\"text\"):\n",
    "        if type(i) is dict and \"type\" in i.keys() and i[\"type\"] == \"hashtag\" and \"#released\" in i[\"text\"]:\n",
    "            return datetime(int(i[\"text\"].split(\"_\")[-1]), 1, 1)\n",
    "    return get_data_from_spotify('year', url)"
   ]
  },
  {
   "cell_type": "code",
   "execution_count": null,
   "id": "224e7b5b",
   "metadata": {},
   "outputs": [],
   "source": [
    "def get_track_youtube_url(elem, track_name):\n",
    "    for i in elem.get(\"text\"):\n",
    "        if type(i) is dict and \"type\" in i.keys() and i[\"type\"] == \"text_link\" and (track_name in i[\"text\"] or i[\"text\"] == \"YouTube\"):\n",
    "            return i[\"href\"]"
   ]
  },
  {
   "cell_type": "code",
   "execution_count": null,
   "id": "08632249",
   "metadata": {},
   "outputs": [],
   "source": [
    "def get_dj(elem):\n",
    "    for i in elem.get(\"text\"):\n",
    "        if type(i) is dict and \"type\" in i.keys() and i[\"type\"] == \"mention\":\n",
    "            return i[\"text\"]"
   ]
  },
  {
   "cell_type": "code",
   "execution_count": null,
   "id": "2c8964c9",
   "metadata": {},
   "outputs": [],
   "source": [
    "submissions = []\n",
    "\n",
    "for m in musicmsgs:\n",
    "    text_str = str(m.get(\"text\", \"\")).lower()\n",
    "    artist_name, artist_url = get_link_tuple(m, \"/artist\")\n",
    "    dj = get_dj(m)\n",
    "    \n",
    "    submission = {\n",
    "        \"dj\": dj[1:] if dj[0] == \"@\" else dj(m),\n",
    "        \"submission_date\": \"{datetimeserializer}:\" + datetime.fromisoformat(m.get(\"date\", \"2020-01-01\")).isoformat(),\n",
    "        \"submission_type\": \"{submissiontypeserializer}:artist\",\n",
    "        \"artist_name\": artist_name,\n",
    "        \"artist_url\": artist_url,\n",
    "        \"artist_genre_tags\": extract_hashtags(m),\n",
    "        \"album_name\": None,\n",
    "        \"album_url\": None,\n",
    "        \"album_release_date\": None,\n",
    "        \"track_name\": None,\n",
    "        \"track_url\": None,\n",
    "        \"track_url_youtube\": None,\n",
    "    }\n",
    "    \n",
    "    if \"album sent\" in text_str or \"track sent\" in text_str:\n",
    "        album_name, album_url = get_link_tuple(m, \"/album\")\n",
    "        submission[\"submission_type\"] = \"{submissiontypeserializer}:album\"\n",
    "        submission[\"album_name\"] = album_name\n",
    "        submission[\"album_url\"] = album_url\n",
    "        submission[\"album_release_date\"] = get_year(m, album_url)\n",
    "        \n",
    "    if \"track sent\" in text_str:\n",
    "        track_name, track_url = get_link_tuple(m, \"/track\")\n",
    "        track_youtube_url = get_track_youtube_url(m, track_name)\n",
    "        submission[\"submission_type\"] = \"{submissiontypeserializer}:track\"\n",
    "        submission[\"track_name\"] = track_name\n",
    "        submission[\"track_url\"] = track_url\n",
    "        submission[\"track_url_youtube\"] = track_youtube_url\n",
    "    \n",
    "    submissions.append(submission)"
   ]
  },
  {
   "cell_type": "code",
   "execution_count": null,
   "id": "068bd5cf",
   "metadata": {
    "scrolled": true
   },
   "outputs": [],
   "source": [
    "submissions"
   ]
  }
 ],
 "metadata": {
  "kernelspec": {
   "display_name": "Python 3 (ipykernel)",
   "language": "python",
   "name": "python3"
  },
  "language_info": {
   "codemirror_mode": {
    "name": "ipython",
    "version": 3
   },
   "file_extension": ".py",
   "mimetype": "text/x-python",
   "name": "python",
   "nbconvert_exporter": "python",
   "pygments_lexer": "ipython3",
   "version": "3.10.4"
  }
 },
 "nbformat": 4,
 "nbformat_minor": 5
}
